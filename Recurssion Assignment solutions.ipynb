{
 "cells": [
  {
   "cell_type": "code",
   "execution_count": null,
   "id": "d7a5dc70",
   "metadata": {},
   "outputs": [],
   "source": [
    "'''Q.1 Can you explain the logic and working of the Tower of Hanoi algorithm by writing a Java program?\n",
    "How does the recursion work, and how are the movements of disks between rods accomplished?'''\n",
    "\n",
    "def tower_of_hanoi(n, source, auxiliary, destination):\n",
    "    if n == 1:\n",
    "        print(f\"Move disk 1 from rod {source} to rod {destination}\")\n",
    "        return\n",
    "    # Move n-1 disks from source to auxiliary using destination as auxiliary\n",
    "    tower_of_hanoi(n - 1, source, destination, auxiliary)\n",
    "    print(f\"Move disk {n} from rod {source} to rod {destination}\")\n",
    "    # Move n-1 disks from auxiliary to destination using source as auxiliary\n",
    "    tower_of_hanoi(n - 1, auxiliary, source, destination)\n",
    "\n",
    "# Driver code\n",
    "num_disks = 3\n",
    "tower_of_hanoi(num_disks, 'A', 'B', 'C')  # A, B, and C are the rod names\n",
    "\n",
    "\n",
    "'''Recursion works by breaking down the problem into smaller subproblems. The movement of disks occurs through recursive\n",
    "calls to the tower_of_hanoi function. It reduces the problem size until it reaches the base case (single disk), which \n",
    "is directly moved to the destination rod. The recursive approach follows a clear pattern of moving smaller subsets of\n",
    "disks between the rods until the entire tower is moved to the destination rod.'''"
   ]
  },
  {
   "cell_type": "code",
   "execution_count": 3,
   "id": "3fa011eb",
   "metadata": {},
   "outputs": [
    {
     "name": "stdout",
     "output_type": "stream",
     "text": [
      "3\n",
      "5\n"
     ]
    }
   ],
   "source": [
    "#Q.2 Given two strings word1 and word2, return the minimum number of operations required to convert word1 to word2.\n",
    "\n",
    "def min_operation(word1, word2):\n",
    "    def helper(i, j):\n",
    "        # Base cases: if either string is empty, return the length of the other string\n",
    "        if i == len(word1):\n",
    "            return len(word2) - j\n",
    "        if j == len(word2):\n",
    "            return len(word1) - i\n",
    "        \n",
    "        if word1[i] == word2[j]:\n",
    "            return helper(i + 1, j + 1)  # Characters match, no operation needed\n",
    "        \n",
    "        # If characters don't match, consider three possible operations and find the minimum\n",
    "        insert = 1 + helper(i, j + 1)  # Insertion\n",
    "        delete = 1 + helper(i + 1, j)  # Deletion\n",
    "        replace = 1 + helper(i + 1, j + 1)  # Replacement\n",
    "        \n",
    "        return min(insert, delete, replace)\n",
    "    \n",
    "    return helper(0, 0)\n",
    "\n",
    "# Test cases\n",
    "word1_1 = \"horse\"\n",
    "word2_1 = \"ros\"\n",
    "print(min_operation(word1_1, word2_1))  \n",
    "\n",
    "word1_2 = \"intention\"\n",
    "word2_2 = \"execution\"\n",
    "print(min_operation(word1_2, word2_2))  \n"
   ]
  },
  {
   "cell_type": "code",
   "execution_count": 4,
   "id": "da73b168",
   "metadata": {},
   "outputs": [
    {
     "name": "stdout",
     "output_type": "stream",
     "text": [
      "The maximum value in the array is: 22\n"
     ]
    }
   ],
   "source": [
    "#Q. 3 Print the max value of the array [ 13, 1, -3, 22, 5].\n",
    "\n",
    "def max_value(arr):\n",
    "    if len(arr) == 1:\n",
    "        return arr[0]\n",
    "    else:\n",
    "        return max(arr[0], max_value(arr[1:]))\n",
    "\n",
    "# Test case\n",
    "arr = [13, 1, -3, 22, 5]\n",
    "result = max_value(arr)\n",
    "print(\"The maximum value in the array is:\", result)\n"
   ]
  },
  {
   "cell_type": "code",
   "execution_count": 5,
   "id": "3854ce1c",
   "metadata": {},
   "outputs": [
    {
     "name": "stdout",
     "output_type": "stream",
     "text": [
      "The sum of the array values is: 120\n"
     ]
    }
   ],
   "source": [
    "#Q.4 Find the sum of the values of the array [92, 23, 15, -20, 10].\n",
    "def array_sum(arr):\n",
    "    if len(arr) == 0:\n",
    "        return 0\n",
    "    else:\n",
    "        return arr[0] + array_sum(arr[1:])\n",
    "\n",
    "\n",
    "arr = [92, 23, 15, -20, 10]\n",
    "result = array_sum(arr)\n",
    "print(\"The sum of the array values is:\", result)\n"
   ]
  },
  {
   "cell_type": "code",
   "execution_count": 6,
   "id": "7e149638",
   "metadata": {},
   "outputs": [
    {
     "name": "stdout",
     "output_type": "stream",
     "text": [
      "Output 1: Yes\n",
      "Output 2: No\n"
     ]
    }
   ],
   "source": [
    "'''Q.5 Given a number n. Print if it is an armstrong number or not.An armstrong number is a number if the sum\n",
    "of every digit in that number raised to the power of total digits in that number is equal to the number.\n",
    "\n",
    "Example : 153 = 1^3 + 5^3 + 3^3 = 1 + 125 + 27 = 153 hence 153 is an armstrong number. (Easy)\n",
    "Input1 : 153\n",
    "Output1 : Yes\n",
    "Input 2 : 134\n",
    "Output2 : No'''\n",
    "\n",
    "def is_armstrong_number(n):\n",
    "    # Convert the number to a string to count digits\n",
    "    num_str = str(n)\n",
    "    num_digits = len(num_str)\n",
    "    \n",
    "    # Calculate the sum of digits raised to the power of total digits\n",
    "    total_sum = sum(int(digit) ** num_digits for digit in num_str)\n",
    "    \n",
    "    # Check if the total sum is equal to the original number\n",
    "    return total_sum == n\n",
    "\n",
    "\n",
    "input_1 = 153\n",
    "input_2 = 134\n",
    "\n",
    "output_1 = \"Yes\" if is_armstrong_number(input_1) else \"No\"\n",
    "output_2 = \"Yes\" if is_armstrong_number(input_2) else \"No\"\n",
    "\n",
    "print(\"Output 1:\", output_1)\n",
    "print(\"Output 2:\", output_2)\n",
    "\n"
   ]
  },
  {
   "cell_type": "code",
   "execution_count": null,
   "id": "29d0e2c0",
   "metadata": {},
   "outputs": [],
   "source": []
  }
 ],
 "metadata": {
  "kernelspec": {
   "display_name": "Python 3 (ipykernel)",
   "language": "python",
   "name": "python3"
  },
  "language_info": {
   "codemirror_mode": {
    "name": "ipython",
    "version": 3
   },
   "file_extension": ".py",
   "mimetype": "text/x-python",
   "name": "python",
   "nbconvert_exporter": "python",
   "pygments_lexer": "ipython3",
   "version": "3.11.4"
  }
 },
 "nbformat": 4,
 "nbformat_minor": 5
}
